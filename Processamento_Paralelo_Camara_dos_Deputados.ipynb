{
  "nbformat": 4,
  "nbformat_minor": 0,
  "metadata": {
    "colab": {
      "name": "Processamento_Paralelo_Camara_dos_Deputados.ipynb",
      "provenance": [],
      "authorship_tag": "ABX9TyMErbYrBcdIhyhtGfmMlybd",
      "include_colab_link": true
    },
    "kernelspec": {
      "name": "python3",
      "display_name": "Python 3"
    },
    "language_info": {
      "name": "python"
    }
  },
  "cells": [
    {
      "cell_type": "markdown",
      "metadata": {
        "id": "view-in-github",
        "colab_type": "text"
      },
      "source": [
        "<a href=\"https://colab.research.google.com/github/ikarlin86/projects/blob/main/Processamento_Paralelo_Camara_dos_Deputados.ipynb\" target=\"_parent\"><img src=\"https://colab.research.google.com/assets/colab-badge.svg\" alt=\"Open In Colab\"/></a>"
      ]
    },
    {
      "cell_type": "markdown",
      "source": [
        "Processamento Paralelo Câmara dos Deputados 2"
      ],
      "metadata": {
        "id": "H8yPQy4joJSB"
      }
    },
    {
      "cell_type": "code",
      "source": [
        "import requests\n",
        "import json\n",
        "import pandas as pd\n",
        "from tqdm import tqdm\n",
        "from time import sleep, time\n",
        "from multiprocessing.pool import ThreadPool\n",
        "import seaborn as sns\n",
        "import matplotlib.pyplot as plt"
      ],
      "metadata": {
        "id": "2VqAkucJt8hk"
      },
      "execution_count": 3,
      "outputs": []
    },
    {
      "cell_type": "code",
      "execution_count": 4,
      "metadata": {
        "id": "6DDX4vgvn-MY"
      },
      "outputs": [],
      "source": [
        "# Requisição dos dados dos Deputados\n",
        "url        = 'https://dadosabertos.camara.leg.br/api/v2/deputados'\n",
        "parametros = {}\n",
        "resposta   = requests.request(\"GET\", url, params=parametros)\n",
        "objetos    = json.loads(resposta.text)\n",
        "dados      = objetos['dados']"
      ]
    },
    {
      "cell_type": "code",
      "source": [
        "# Selecionando todos os ids dos deputados\n",
        "id = []\n",
        "for i in range(len(dados)):\n",
        "    id.append(str(dados[i]['id']))"
      ],
      "metadata": {
        "id": "LAhSjyntuHkd"
      },
      "execution_count": 5,
      "outputs": []
    },
    {
      "cell_type": "code",
      "source": [
        "# Requisição dos dados detalhes dos Deputados\n",
        "def detalhe_deputado(id):\n",
        "  url        = 'https://dadosabertos.camara.leg.br/api/v2/deputados/' + id\n",
        "  parametros = {}\n",
        "  resposta   = requests.request(\"GET\", url, params=parametros)\n",
        "  objetos    = json.loads(resposta.text)\n",
        "  dados      = objetos['dados']\n",
        "  return dados"
      ],
      "metadata": {
        "id": "qoih8Sa3uMDR"
      },
      "execution_count": 6,
      "outputs": []
    },
    {
      "cell_type": "code",
      "source": [
        "detalhe_deputado('204554')"
      ],
      "metadata": {
        "colab": {
          "base_uri": "https://localhost:8080/"
        },
        "id": "lEfb_bgAuRo6",
        "outputId": "aeeec546-ea8a-4e5b-c4cf-9b235be08355"
      },
      "execution_count": 7,
      "outputs": [
        {
          "output_type": "execute_result",
          "data": {
            "text/plain": [
              "{'cpf': '36607606504',\n",
              " 'dataFalecimento': None,\n",
              " 'dataNascimento': '1965-02-13',\n",
              " 'escolaridade': 'Superior Incompleto',\n",
              " 'id': 204554,\n",
              " 'municipioNascimento': 'Salvador',\n",
              " 'nomeCivil': 'JOSE ABILIO SILVA DE SANTANA',\n",
              " 'redeSocial': [],\n",
              " 'sexo': 'M',\n",
              " 'ufNascimento': 'BA',\n",
              " 'ultimoStatus': {'condicaoEleitoral': 'Titular',\n",
              "  'data': '2019-02-01T11:45',\n",
              "  'descricaoStatus': None,\n",
              "  'email': 'dep.abiliosantana@camara.leg.br',\n",
              "  'gabinete': {'andar': '5',\n",
              "   'email': 'dep.abiliosantana@camara.leg.br',\n",
              "   'nome': '531',\n",
              "   'predio': '4',\n",
              "   'sala': '531',\n",
              "   'telefone': '3215-5531'},\n",
              "  'id': 204554,\n",
              "  'idLegislatura': 56,\n",
              "  'nome': 'Abílio Santana',\n",
              "  'nomeEleitoral': 'Abílio Santana',\n",
              "  'siglaPartido': 'PL',\n",
              "  'siglaUf': 'BA',\n",
              "  'situacao': 'Exercício',\n",
              "  'uri': 'https://dadosabertos.camara.leg.br/api/v2/deputados/204554',\n",
              "  'uriPartido': 'https://dadosabertos.camara.leg.br/api/v2/partidos/37906',\n",
              "  'urlFoto': 'https://www.camara.leg.br/internet/deputado/bandep/204554.jpg'},\n",
              " 'uri': 'https://dadosabertos.camara.leg.br/api/v2/deputados/204554',\n",
              " 'urlWebsite': None}"
            ]
          },
          "metadata": {},
          "execution_count": 7
        }
      ]
    },
    {
      "cell_type": "code",
      "source": [
        "inicio_processo = time()\n",
        "deputado = detalhe_deputado('204521')\n",
        "fim_processo = time()\n",
        "processamento_individual = fim_processo - inicio_processo\n",
        "print('Processamento individual por id:', round( (processamento_individual), 1 ), 'segundos')\n",
        " "
      ],
      "metadata": {
        "colab": {
          "base_uri": "https://localhost:8080/"
        },
        "id": "sja6HxFyucBS",
        "outputId": "363a08ff-81a2-49f8-8237-ccb6a04ea9d2"
      },
      "execution_count": 9,
      "outputs": [
        {
          "output_type": "stream",
          "name": "stdout",
          "text": [
            "Processamento individual por id: 0.7 segundos\n"
          ]
        }
      ]
    },
    {
      "cell_type": "code",
      "source": [
        "ids = id[:100]"
      ],
      "metadata": {
        "id": "2yKdn0Ovuroy"
      },
      "execution_count": 10,
      "outputs": []
    },
    {
      "cell_type": "code",
      "source": [
        "inicio_processo = time()\n",
        "lista_api = []\n",
        "for i in tqdm(ids):\n",
        "  resultado_individual = detalhe_deputado(i)\n",
        "  lista_api.append(resultado_individual)\n",
        "fim_processo = time()\n",
        "processamento_sequencial = fim_processo - inicio_processo\n",
        "print('Processamento sequencial por id:', round( (processamento_sequencial), 1 ), 'segundos')"
      ],
      "metadata": {
        "colab": {
          "base_uri": "https://localhost:8080/"
        },
        "id": "AhU_Nppbusgq",
        "outputId": "295c132f-d662-4862-cf49-ddb829fc9cd2"
      },
      "execution_count": 11,
      "outputs": [
        {
          "output_type": "stream",
          "name": "stderr",
          "text": [
            "100%|██████████| 100/100 [01:00<00:00,  1.65it/s]"
          ]
        },
        {
          "output_type": "stream",
          "name": "stdout",
          "text": [
            "Processamento sequencial por id: 60.6 segundos\n"
          ]
        },
        {
          "output_type": "stream",
          "name": "stderr",
          "text": [
            "\n"
          ]
        }
      ]
    },
    {
      "cell_type": "code",
      "source": [
        "# Subprocessos para requisição em paralelo na API\n",
        "inicio_processo = time()\n",
        " \n",
        "subprocessos = []\n",
        "pool = ThreadPool(processes=10)\n",
        " \n",
        "for i in tqdm(ids):\n",
        "    resultado_paralelo = pool.apply_async(detalhe_deputado, (i, ))\n",
        "    subprocessos.append(resultado_paralelo)\n",
        "lista_api_paralela = [result.get(timeout=120) for result in tqdm(subprocessos)]\n",
        " \n",
        "fim_processo = time()\n",
        "processamento_paralelo = fim_processo - inicio_processo\n",
        "print('Processamento paralelo dos id:', round( (processamento_paralelo), 1 ), 'segundos')\n",
        " "
      ],
      "metadata": {
        "colab": {
          "base_uri": "https://localhost:8080/"
        },
        "id": "maDfrZVdu2MM",
        "outputId": "e03b3030-1bf9-4ddf-f4c1-92835a2fbe45"
      },
      "execution_count": 12,
      "outputs": [
        {
          "output_type": "stream",
          "name": "stderr",
          "text": [
            "100%|██████████| 100/100 [00:00<00:00, 103384.37it/s]\n",
            "100%|██████████| 100/100 [00:20<00:00,  4.90it/s]"
          ]
        },
        {
          "output_type": "stream",
          "name": "stdout",
          "text": [
            "Processamento paralelo dos id: 20.5 segundos\n"
          ]
        },
        {
          "output_type": "stream",
          "name": "stderr",
          "text": [
            "\n"
          ]
        }
      ]
    },
    {
      "cell_type": "code",
      "source": [
        "print(round( processamento_individual, 1 ), 'segundos foi o tempo de processamento de 01 requisição na API')\n",
        "print(round( processamento_sequencial, 1 ), 'segundos foi o tempo de processamento de 100 requisições sequenciais na API')\n",
        "print(round( processamento_paralelo, 1 ), 'segundos foi o tempo de processamento de 100 requisições paralelas na API')"
      ],
      "metadata": {
        "colab": {
          "base_uri": "https://localhost:8080/"
        },
        "id": "5zhrwUl-vI2L",
        "outputId": "9c874473-1ae2-4dfe-c81f-eee8854f8751"
      },
      "execution_count": 13,
      "outputs": [
        {
          "output_type": "stream",
          "name": "stdout",
          "text": [
            "0.7 segundos foi o tempo de processamento de 01 requisição na API\n",
            "60.6 segundos foi o tempo de processamento de 100 requisições sequenciais na API\n",
            "20.5 segundos foi o tempo de processamento de 100 requisições paralelas na API\n"
          ]
        }
      ]
    },
    {
      "cell_type": "code",
      "source": [
        "print ('O processamento paralelo utilizou apenas {0:.0%}'.format(processamento_paralelo/processamento_sequencial),\n",
        "       'do tempo do processamento sequencial!')"
      ],
      "metadata": {
        "colab": {
          "base_uri": "https://localhost:8080/"
        },
        "id": "CaCy-a5XvOsD",
        "outputId": "edd3227e-7729-44da-c7bd-1aa986f5a70e"
      },
      "execution_count": 14,
      "outputs": [
        {
          "output_type": "stream",
          "name": "stdout",
          "text": [
            "O processamento paralelo utilizou apenas 34% do tempo do processamento sequencial!\n"
          ]
        }
      ]
    },
    {
      "cell_type": "code",
      "source": [
        "# Análise comparando processamento sequencial x paralelo\n",
        "x = [processamento_sequencial,processamento_paralelo]\n",
        "y = ['processamento_sequencial','processamento_paralelo']\n",
        "plt.figure(figsize = (7, 5))\n",
        "sns.barplot(x=x, y=y, palette=\"deep\")\n",
        "plt.xlabel('Segundos')\n",
        "plt.plot()"
      ],
      "metadata": {
        "colab": {
          "base_uri": "https://localhost:8080/",
          "height": 351
        },
        "id": "evpBDURlvQND",
        "outputId": "16def3bd-4780-4c53-86d4-e4437741485f"
      },
      "execution_count": 15,
      "outputs": [
        {
          "output_type": "execute_result",
          "data": {
            "text/plain": [
              "[]"
            ]
          },
          "metadata": {},
          "execution_count": 15
        },
        {
          "output_type": "display_data",
          "data": {
            "image/png": "[encoded data removed]",
            "text/plain": [
              "<Figure size 504x360 with 1 Axes>"
            ]
          },
          "metadata": {
            "needs_background": "light"
          }
        }
      ]
    }
  ]
}